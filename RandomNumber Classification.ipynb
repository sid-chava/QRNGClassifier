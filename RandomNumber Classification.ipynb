{
  "cells": [
    {
      "cell_type": "code",
      "execution_count": 31,
      "metadata": {
        "id": "wgVYr5-TXm5t"
      },
      "outputs": [],
      "source": [
        "# Importing the required libraries\n",
        "import numpy as np\n",
        "import pandas as pd\n",
        "import mlflow\n",
        "import mlflow.sklearn\n",
        "from math import log2, sqrt\n",
        "from sklearn.metrics import accuracy_score\n",
        "from sklearn.model_selection import train_test_split\n",
        "from scipy.fft import fft, ifft\n",
        "from scipy.special import erfc\n",
        "from pydotplus import graph_from_dot_data\n",
        "import itertools\n",
        "from sklearn.preprocessing import StandardScaler\n",
        "from sklearn.decomposition import PCA\n",
        "from sklearn.ensemble import RandomForestClassifier\n",
        "from sklearn.metrics import multilabel_confusion_matrix, ConfusionMatrixDisplay, roc_auc_score\n",
        "import matplotlib.pyplot as plt\n",
        "\n"
      ]
    },
    {
      "cell_type": "markdown",
      "metadata": {},
      "source": []
    },
    {
      "cell_type": "code",
      "execution_count": 32,
      "metadata": {
        "colab": {
          "base_uri": "https://localhost:8080/"
        },
        "id": "-MxSPTrNXsp6",
        "outputId": "0e8f768e-776e-480f-f290-0725176cabe7"
      },
      "outputs": [
        {
          "ename": "ValueError",
          "evalue": "too many values to unpack (expected 2)",
          "output_type": "error",
          "traceback": [
            "\u001b[0;31m---------------------------------------------------------------------------\u001b[0m",
            "\u001b[0;31mValueError\u001b[0m                                Traceback (most recent call last)",
            "Cell \u001b[0;32mIn[32], line 333\u001b[0m\n\u001b[1;32m    331\u001b[0m \u001b[38;5;28;01mfor\u001b[39;00m line \u001b[38;5;129;01min\u001b[39;00m file:\n\u001b[1;32m    332\u001b[0m     \u001b[38;5;28;01mif\u001b[39;00m line\u001b[38;5;241m.\u001b[39mstrip():\n\u001b[0;32m--> 333\u001b[0m         binary_number, label \u001b[38;5;241m=\u001b[39m line\u001b[38;5;241m.\u001b[39mstrip()\u001b[38;5;241m.\u001b[39msplit()\n\u001b[1;32m    334\u001b[0m         label \u001b[38;5;241m=\u001b[39m \u001b[38;5;28mint\u001b[39m(label)\n\u001b[1;32m    335\u001b[0m         \u001b[38;5;66;03m# Change label 3 to label 1\u001b[39;00m\n",
            "\u001b[0;31mValueError\u001b[0m: too many values to unpack (expected 2)"
          ]
        }
      ],
      "source": [
        "import numpy as np\n",
        "import pandas as pd\n",
        "from math import log2, sqrt\n",
        "from scipy.fft import fft\n",
        "from scipy.special import erfc\n",
        "from sklearn.model_selection import train_test_split\n",
        "from sklearn.feature_selection import SelectKBest, f_classif\n",
        "from sklearn.feature_selection import RFE\n",
        "\n",
        "# Concatenate data\n",
        "def concatenateData(df, num_concats):\n",
        "    new_df = pd.DataFrame({\n",
        "        'Concatenated_Data': [''] * (len(df) // num_concats), \n",
        "        'label': [0] * (len(df) // num_concats)\n",
        "    })\n",
        "\n",
        "    # Loop through each group of num_concats rows and concatenate their 'binary_number' strings\n",
        "    for i in range(0, len(df), num_concats):\n",
        "        new_df.iloc[i // num_concats, 0] = ''.join(df['binary_number'][i:i + num_concats])\n",
        "        new_df.iloc[i // num_concats, 1] = df['label'][i]\n",
        "\n",
        "    return new_df\n",
        "\n",
        "def shannon_entropy(binary_string):\n",
        "    if len(binary_string) % 2 != 0:\n",
        "        raise ValueError(\"Binary string length must be a multiple of 2.\")\n",
        "    \n",
        "    patterns = ['00', '10', '11', '01']\n",
        "    frequency = {pattern: 0 for pattern in patterns}\n",
        "    \n",
        "    for i in range(0, len(binary_string), 2):\n",
        "        segment = binary_string[i:i+2]\n",
        "        if segment in patterns:\n",
        "            frequency[segment] += 1\n",
        "    \n",
        "    total_segments = sum(frequency.values())\n",
        "    \n",
        "    entropy = 0\n",
        "    for count in frequency.values():\n",
        "        if count > 0:\n",
        "            probability = count / total_segments\n",
        "            entropy -= probability * log2(probability)\n",
        "    \n",
        "    return entropy\n",
        "\n",
        "\n",
        "def classic_spectral_test(bit_string):\n",
        "    bit_array = 2 * np.array([int(bit) for bit in bit_string]) - 1\n",
        "    dft = fft(bit_array)\n",
        "    n_half = len(bit_string) // 2 + 1\n",
        "    mod_dft = np.abs(dft[:n_half])\n",
        "    threshold = np.sqrt(np.log(1 / 0.05) / len(bit_string))\n",
        "    peaks_below_threshold = np.sum(mod_dft < threshold)\n",
        "    expected_peaks = 0.95 * n_half\n",
        "    d = (peaks_below_threshold - expected_peaks) / np.sqrt(len(bit_string) * 0.95 * 0.05)\n",
        "    p_value = erfc(np.abs(d) / np.sqrt(2)) / 2\n",
        "    return d\n",
        "\n",
        "def frequency_test(bit_string):\n",
        "    n = len(bit_string)\n",
        "    count_ones = bit_string.count('1')\n",
        "    count_zeros = bit_string.count('0')\n",
        "    \n",
        "    # The test statistic\n",
        "    s = (count_ones - count_zeros) / sqrt(n)\n",
        "    \n",
        "    # The p-value\n",
        "    p_value = erfc(abs(s) / sqrt(2))\n",
        "    \n",
        "    return p_value\n",
        "\n",
        "def runs_test(bit_string):\n",
        "    n = len(bit_string)\n",
        "    runs = 1  # Start with the first run\n",
        "    for i in range(1, n):\n",
        "        if bit_string[i] != bit_string[i - 1]:\n",
        "            runs += 1\n",
        "    \n",
        "    n0 = bit_string.count('0')\n",
        "    n1 = bit_string.count('1')\n",
        "    \n",
        "    # Expected number of runs\n",
        "    expected_runs = (2 * n0 * n1 / n) + 1\n",
        "    variance_runs = (2 * n0 * n1 * (2 * n0 * n1 - n)) / (n ** 2 * (n - 1))\n",
        "    \n",
        "    # The test statistic\n",
        "    z = (runs - expected_runs) / sqrt(variance_runs)\n",
        "    \n",
        "    # The p-value\n",
        "    p_value = erfc(abs(z) / sqrt(2))\n",
        "    \n",
        "    return p_value\n",
        "\n",
        "def linear_complexity(bit_string, M=500):\n",
        "    # Perform linear complexity test with block size M\n",
        "    n = len(bit_string)\n",
        "    bit_array = np.array([int(bit) for bit in bit_string])\n",
        "    lc = 0  # Initialize linear complexity\n",
        "    \n",
        "    # Process blocks of size M\n",
        "    for i in range(0, n, M):\n",
        "        block = bit_array[i:i+M]\n",
        "        if len(block) < M:\n",
        "            continue\n",
        "        \n",
        "        lc_block = 0\n",
        "        for j in range(M):\n",
        "            if block[j] == 1:\n",
        "                lc_block = j + 1\n",
        "        \n",
        "        lc += lc_block\n",
        "    \n",
        "    lc = lc / (n / M)\n",
        "    return lc\n",
        "\n",
        "def autocorrelation_test(bit_string, lag=1):\n",
        "    n = len(bit_string)\n",
        "    bit_array = np.array([int(bit) for bit in bit_string])\n",
        "    autocorrelation = np.correlate(bit_array, np.roll(bit_array, lag), mode='valid')[0]\n",
        "    return autocorrelation / n\n",
        "\n",
        "def maurer_universal_test(bit_string):\n",
        "    k = 6\n",
        "    l = 5\n",
        "    q = 20\n",
        "    bit_array = np.array([int(bit) for bit in bit_string])\n",
        "    max_val = 2**k\n",
        "    init_subseq = bit_array[:q]\n",
        "    rest_subseq = bit_array[q:]\n",
        "    d = {}\n",
        "    for i in range(len(init_subseq) - k + 1):\n",
        "        d[tuple(init_subseq[i:i+k])] = i\n",
        "    t = []\n",
        "    for i in range(len(rest_subseq) - k + 1):\n",
        "        subseq = tuple(rest_subseq[i:i+k])\n",
        "        if subseq in d:\n",
        "            t.append(i - d[subseq])\n",
        "            d[subseq] = i\n",
        "    if not t:\n",
        "        return 0\n",
        "    t = np.array(t)\n",
        "    log_avg = np.mean(np.log2(t))\n",
        "    return log_avg - np.log2(q)\n",
        "\n",
        "def binary_matrix_rank_test(bit_string, M=32, Q=32):\n",
        "    bit_array = np.array([int(bit) for bit in bit_string])\n",
        "    num_matrices = len(bit_array) // (M * Q)\n",
        "    ranks = []\n",
        "    for i in range(num_matrices):\n",
        "        matrix = bit_array[i*M*Q:(i+1)*M*Q].reshape((M, Q))\n",
        "        rank = np.linalg.matrix_rank(matrix)\n",
        "        ranks.append(rank)\n",
        "    return np.mean(ranks)\n",
        "\n",
        "def cumulative_sums_test(bit_string):\n",
        "    bit_array = np.array([int(bit) for bit in bit_string])\n",
        "    adjusted = 2 * bit_array - 1\n",
        "    cumulative_sum = np.cumsum(adjusted)\n",
        "    max_excursion = np.max(np.abs(cumulative_sum))\n",
        "    return max_excursion\n",
        "\n",
        "def longest_run_ones_test(bit_string, block_size=100):\n",
        "    bit_array = np.array([int(bit) for bit in bit_string])\n",
        "    num_blocks = len(bit_array) // block_size\n",
        "    max_runs = []\n",
        "    for i in range(num_blocks):\n",
        "        block = bit_array[i*block_size:(i+1)*block_size]\n",
        "        max_run = max([len(list(g)) for k, g in itertools.groupby(block) if k == 1])\n",
        "        max_runs.append(max_run)\n",
        "    return np.mean(max_runs)\n",
        "\n",
        "def random_excursions_test(bit_string):\n",
        "    bit_array = np.array([int(bit) for bit in bit_string])\n",
        "    bit_array = 2 * bit_array - 1  # Convert to ±1\n",
        "\n",
        "    cumulative_sum = np.cumsum(bit_array)\n",
        "    states = np.unique(cumulative_sum)\n",
        "\n",
        "    if 0 not in states:\n",
        "        states = np.append(states, 0)\n",
        "    state_counts = {state: 0 for state in states}\n",
        "    for state in cumulative_sum:\n",
        "        state_counts[state] += 1\n",
        "\n",
        "    state_counts[0] -= 1  # Adjust for zero state\n",
        "    pi = [0.5 * (1 - (1 / (2 * state + 1)**2)) for state in states]\n",
        "    x = np.sum([(state_counts[state] - len(bit_string) * pi[i])**2 / (len(bit_string) * pi[i]) for i, state in enumerate(states)])\n",
        "\n",
        "    return x\n",
        "\n",
        "\n",
        "def unique_subsequences(bit_string, length=4):\n",
        "    bit_array = np.array([int(bit) for bit in bit_string])\n",
        "    n = len(bit_array)\n",
        "    subsequences = set()\n",
        "    \n",
        "    for i in range(n - length + 1):\n",
        "        subseq = tuple(bit_array[i:i+length])\n",
        "        subsequences.add(subseq)\n",
        "    \n",
        "    return len(subsequences)\n",
        "\n",
        "def sample_entropy(bit_string, m=2, r=0.2):\n",
        "    bit_array = np.array([int(bit) for bit in bit_string])\n",
        "    N = len(bit_array)\n",
        "    \n",
        "    def _phi(m):\n",
        "        x = np.array([bit_array[i:i+m] for i in range(N - m + 1)])\n",
        "        C = np.sum(np.all(np.abs(x[:, None] - x) <= r, axis=2), axis=0) / (N - m + 1.0)\n",
        "        return np.sum(C) / (N - m + 1.0)\n",
        "    \n",
        "    return -np.log(_phi(m + 1) / _phi(m))\n",
        "\n",
        "def permutation_entropy(bit_string, order=3):\n",
        "    bit_array = np.array([int(bit) for bit in bit_string])\n",
        "    n = len(bit_array)\n",
        "    \n",
        "    permutations = np.array(list(itertools.permutations(range(order))))\n",
        "    c = np.zeros(len(permutations))\n",
        "    \n",
        "    for i in range(n - order + 1):\n",
        "        sorted_index_array = tuple(np.argsort(bit_array[i:i+order]))\n",
        "        for j, p in enumerate(permutations):\n",
        "            if np.array_equal(p, sorted_index_array):\n",
        "                c[j] += 1\n",
        "    \n",
        "    c = c / (n - order + 1)\n",
        "    pe = -np.sum(c * np.log2(c + np.finfo(float).eps))\n",
        "    return pe\n",
        "\n",
        "def lyapunov_exponent(bit_string, m=2, t=1):\n",
        "    bit_array = np.array([int(bit) for bit in bit_string])\n",
        "    N = len(bit_array)\n",
        "    \n",
        "    def _phi(m):\n",
        "        x = np.array([bit_array[i:i+m] for i in range(N - m + 1)])\n",
        "        C = np.sum(np.all(np.abs(x[:, None] - x) <= t, axis=2), axis=0) / (N - m + 1.0)\n",
        "        return np.sum(np.log(C + np.finfo(float).eps)) / (N - m + 1.0)\n",
        "    \n",
        "    return abs(_phi(m) - _phi(m + 1))\n",
        "\n",
        "def entropy_rate(bit_string, k=2):\n",
        "    bit_array = np.array([int(bit) for bit in bit_string])\n",
        "    n = len(bit_array)\n",
        "    prob = {}\n",
        "    \n",
        "    for i in range(n - k + 1):\n",
        "        subseq = tuple(bit_array[i:i + k])\n",
        "        if subseq in prob:\n",
        "            prob[subseq] += 1\n",
        "        else:\n",
        "            prob[subseq] = 1\n",
        "    \n",
        "    for key in prob:\n",
        "        prob[key] /= (n - k + 1)\n",
        "    \n",
        "    entropy_rate = -sum(p * log2(p) for p in prob.values())\n",
        "    return entropy_rate\n",
        "\n",
        "\n",
        "# Calculate min-entropy\n",
        "def calculate_min_entropy(sequence):\n",
        "    sequence = np.asarray(sequence, dtype=float)  # Convert sequence to float\n",
        "    p = np.mean(sequence)  # Proportion of ones\n",
        "    max_prob = max(p, 1 - p)\n",
        "    if max_prob == 0:  # Handle the case where all bits are the same\n",
        "        return 0\n",
        "    min_entropy = -np.log2(max_prob)\n",
        "    return min_entropy\n",
        "\n",
        "# Apply randomness tests\n",
        "def apply_randomness_tests(df, tests):\n",
        "    if not tests:\n",
        "        raise ValueError(\"No randomness tests specified.\")\n",
        "\n",
        "    test_functions = {\n",
        "        'autocorrelation': autocorrelation_test,\n",
        "        'cumulative_sums': cumulative_sums_test,\n",
        "        'spectral_test': classic_spectral_test,\n",
        "        'frequency_test': frequency_test,\n",
        "        'runs_test': runs_test,\n",
        "        'shannon_entropy': shannon_entropy,\n",
        "        'min_entropy': calculate_min_entropy,\n",
        "        'entropy_rate': entropy_rate,\n",
        "        'lyapunov_exponent': lyapunov_exponent,\n",
        "        'permutation_entropy': permutation_entropy,\n",
        "        'sample_entropy': sample_entropy,\n",
        "        'unique_subsequences': unique_subsequences,\n",
        "        'random_excursions_test': random_excursions_test,\n",
        "        'longest_run_ones_test': longest_run_ones_test,\n",
        "        'cumulative_sums_test': cumulative_sums_test,\n",
        "        'binary_matrix_rank_test': binary_matrix_rank_test,\n",
        "        'maurer_universal_test': maurer_universal_test,\n",
        "        'linear_complexity': linear_complexity,\n",
        "    }\n",
        "\n",
        "    for test in tests:\n",
        "        if test not in test_functions:\n",
        "            raise ValueError(f\"Invalid randomness test: {test}\")\n",
        "        df[test] = df['Concatenated_Data'].apply(test_functions[test])\n",
        "\n",
        "    return df\n",
        "\n",
        "# Preprocess data\n",
        "def preprocess_data(df, num_concats, tests):\n",
        "    df = concatenateData(df, num_concats)\n",
        "    processed_df = apply_randomness_tests(df, tests)\n",
        "    \n",
        "    # Convert concatenated binary strings into separate columns\n",
        "    df_features = pd.DataFrame(processed_df['Concatenated_Data'].apply(list).tolist(), dtype=float)\n",
        "    processed_df = pd.concat([processed_df.drop(columns='Concatenated_Data'), df_features], axis=1)\n",
        "\n",
        "    return processed_df\n",
        "\n",
        "# Calculate min-entropy\n",
        "def calculate_min_entropy(sequence):\n",
        "    sequence = np.asarray(sequence, dtype=float)  # Convert sequence to float\n",
        "    p = np.mean(sequence)  # Proportion of ones\n",
        "    max_prob = max(p, 1 - p)\n",
        "    if max_prob == 0:  # Handle the case where all bits are the same\n",
        "        return 0\n",
        "    min_entropy = -np.log2(max_prob)\n",
        "    return min_entropy\n",
        "\n",
        "# Main\n",
        "file_path = '/Users/sid/Code/QRNGclassifier/IBM_QRNG_Data_Master.txt'\n",
        "\n",
        "# Read the data from the file\n",
        "data = []\n",
        "with open(file_path, 'r') as file:\n",
        "    for line in file:\n",
        "        if line.strip():\n",
        "            binary_number, label = line.strip().split()\n",
        "            label = int(label)\n",
        "            # Change label 3 to label 1\n",
        "            if label == 5:\n",
        "                label = 1\n",
        "            data.append((binary_number, label))\n",
        "\n",
        "\n",
        "# Convert the data into a DataFrame\n",
        "df = pd.DataFrame(data, columns=['binary_number', 'label'])\n",
        "\n",
        "tests_to_apply = [\n",
        "            'autocorrelation',\n",
        "             'cumulative_sums',\n",
        "             'spectral_test',\n",
        "             'frequency_test',\n",
        "             'runs_test',\n",
        "             'shannon_entropy',\n",
        "             'min_entropy',\n",
        "             'entropy_rate',\n",
        "             'lyapunov_exponent',\n",
        "             'permutation_entropy',\n",
        "             'sample_entropy',\n",
        "             'unique_subsequences',\n",
        "             'longest_run_ones_test',\n",
        "             'cumulative_sums_test',\n",
        "             'linear_complexity',\n",
        "            ]\n",
        "\n",
        "# Preprocess data and apply randomness tests\n",
        "preprocessed_df = preprocess_data(df, num_concats=1, tests=tests_to_apply)\n",
        "sums = preprocessed_df.isna().sum()\n",
        "sums[sums>1]\n",
        "preprocessed_df.dropna(axis=1)\n",
        "uniques_df = preprocessed_df.apply(lambda x: len(set(x)))\n",
        "preprocessed_df = preprocessed_df.drop(columns=uniques_df[uniques_df==1].index)\n",
        "preprocessed_df = preprocessed_df.rename(columns={i: str(i) for i in range(100)})\n",
        "\n",
        "# Split the data into features (X) and labels (y)\n",
        "X = preprocessed_df.drop(columns='label').values\n",
        "y = preprocessed_df['label'].values.astype(int)\n",
        "\n",
        "# Split the data into training and testing sets\n",
        "X_train, X_test, y_train, y_test = train_test_split(X, y, test_size=0.2, random_state=42)\n",
        "\n",
        "# Calculate means and stds\n",
        "X_means = np.mean(X_train, axis=0)\n",
        "X_stds = np.std(X_train, axis=0)\n",
        "\n",
        "# Standardize the training and testing data\n",
        "X_train = (X_train - X_means) / X_stds\n",
        "X_test = (X_test - X_means) / X_stds\n",
        "\n",
        "\n",
        "\n",
        "print(preprocessed_df)"
      ]
    },
    {
      "cell_type": "code",
      "execution_count": 26,
      "metadata": {},
      "outputs": [
        {
          "name": "stdout",
          "output_type": "stream",
          "text": [
            "Number of physical cores: 8\n",
            "Using 4 jobs\n"
          ]
        }
      ],
      "source": [
        "import joblib\n",
        "\n",
        "N_CORES = joblib.cpu_count(only_physical_cores=True)\n",
        "print(f\"Number of physical cores: {N_CORES}\")\n",
        "\n",
        "jobs = N_CORES // 2\n",
        "print(f\"Using {jobs} jobs\")\n",
        "\n",
        "def train_and_test_model(model, X_train, X_test, y_train, y_test):\n",
        "    model.fit(X_train, y_train)\n",
        "    y_pred = model.predict(X_test)\n",
        "    #y_prob = model.predict_proba(X_test)\n",
        "    accuracy = accuracy_score(y_test, y_pred)\n",
        "    #auc = roc_auc_score(y_test, y_prob, multi_class='ovr')\n",
        "    #cfm = multilabel_confusion_matrix(y_test, y_pred)\n",
        "    #ConfusionMatrixDisplay(cfm).plot()\n",
        "    ConfusionMatrixDisplay.from_predictions(y_test, y_pred)\n",
        "    plt.show()\n",
        "    plt.close()\n",
        "    return accuracy #, auc #, cfm"
      ]
    },
    {
      "cell_type": "markdown",
      "metadata": {
        "id": "7Brik04cEFwK"
      },
      "source": [
        "## SVM"
      ]
    },
    {
      "cell_type": "markdown",
      "metadata": {
        "id": "FQm1VbnVEF3K"
      },
      "source": []
    },
    {
      "cell_type": "code",
      "execution_count": 27,
      "metadata": {
        "colab": {
          "background_save": true
        },
        "id": "937q3D9VAzlM"
      },
      "outputs": [
        {
          "data": {
            "image/png": "[encoded data removed]",
            "text/plain": [
              "<Figure size 640x480 with 2 Axes>"
            ]
          },
          "metadata": {},
          "output_type": "display_data"
        },
        {
          "data": {
            "text/plain": [
              "0.8220833333333334"
            ]
          },
          "execution_count": 27,
          "metadata": {},
          "output_type": "execute_result"
        }
      ],
      "source": [
        "from sklearn.linear_model import SGDClassifier\n",
        "sgd_model = SGDClassifier(n_jobs=jobs, random_state=42)#, verbose=1)\n",
        "train_and_test_model(sgd_model, X_train, X_test, y_train, y_test)\n"
      ]
    },
    {
      "cell_type": "code",
      "execution_count": 20,
      "metadata": {
        "colab": {
          "base_uri": "https://localhost:8080/"
        },
        "id": "NMKS-cKqbkL0",
        "outputId": "f1e56f55-3340-423b-8fe5-ac06e95cb71c"
      },
      "outputs": [
        {
          "name": "stderr",
          "output_type": "stream",
          "text": [
            "/opt/anaconda3/lib/python3.11/site-packages/sklearn/svm/_base.py:1244: ConvergenceWarning: Liblinear failed to converge, increase the number of iterations.\n",
            "  warnings.warn(\n"
          ]
        },
        {
          "data": {
            "image/png": "[encoded data removed]",
            "text/plain": [
              "<Figure size 640x480 with 2 Axes>"
            ]
          },
          "metadata": {},
          "output_type": "display_data"
        },
        {
          "data": {
            "text/plain": [
              "0.8908536585365854"
            ]
          },
          "execution_count": 20,
          "metadata": {},
          "output_type": "execute_result"
        }
      ],
      "source": [
        "from sklearn.svm import LinearSVC\n",
        "svc_model = LinearSVC(random_state=42)#, verbose=1)\n",
        "train_and_test_model(svc_model, X_train, X_test, y_train, y_test)\n"
      ]
    },
    {
      "cell_type": "markdown",
      "metadata": {
        "id": "NDFlld25Xze5"
      },
      "source": [
        "## Random Forest"
      ]
    },
    {
      "cell_type": "code",
      "execution_count": 28,
      "metadata": {
        "colab": {
          "base_uri": "https://localhost:8080/"
        },
        "id": "QFkkQCBxXlWh",
        "outputId": "1c9794f0-a799-4de4-98e3-0dad406a3ad3"
      },
      "outputs": [
        {
          "data": {
            "image/png": "[encoded data removed]",
            "text/plain": [
              "<Figure size 640x480 with 2 Axes>"
            ]
          },
          "metadata": {},
          "output_type": "display_data"
        },
        {
          "data": {
            "text/plain": [
              "0.8233333333333334"
            ]
          },
          "execution_count": 28,
          "metadata": {},
          "output_type": "execute_result"
        }
      ],
      "source": [
        "from sklearn.ensemble import RandomForestClassifier\n",
        "\n",
        "def calculate_min_entropy(sequence):\n",
        "    sequence = np.asarray(sequence, dtype=float)  # Convert sequence to float\n",
        "    p = np.mean(sequence)  # Proportion of ones\n",
        "    max_prob = max(p, 1 - p)\n",
        "    if max_prob == 0:  # Handle the case where all bits are the same\n",
        "        return 0\n",
        "    min_entropy = -np.log2(max_prob)\n",
        "    return min_entropy\n",
        "\n",
        "\n",
        "\n",
        "\n",
        "# Create the Random Forest classifier\n",
        "rf_model = RandomForestClassifier(random_state=42, n_jobs=jobs)\n",
        "train_and_test_model(rf_model, X_train, X_test, y_train, y_test)\n",
        "\n",
        "\n"
      ]
    },
    {
      "cell_type": "code",
      "execution_count": 29,
      "metadata": {
        "colab": {
          "base_uri": "https://localhost:8080/"
        },
        "id": "KULNfXpncJZC",
        "outputId": "f44dab80-2cb1-46c1-ab5f-a26725d94c9c"
      },
      "outputs": [
        {
          "name": "stdout",
          "output_type": "stream",
          "text": [
            "Random Forest Accuracy: 0.82375\n",
            "Best Hyperparameters: {'max_depth': None, 'max_features': 'sqrt', 'min_samples_leaf': 2, 'min_samples_split': 5, 'n_estimators': 200}\n"
          ]
        }
      ],
      "source": [
        "from sklearn.ensemble import RandomForestClassifier\n",
        "from sklearn.model_selection import GridSearchCV\n",
        "\n",
        "# Create the Random Forest classifier\n",
        "rf_model = RandomForestClassifier(random_state=42, n_jobs=jobs)\n",
        "\n",
        "# Define the hyperparameter grid to search\n",
        "param_grid = {\n",
        "    'n_estimators': [50, 100, 200],          # Number of trees in the forest\n",
        "    'max_depth': [None, 10, 20, 30],         # Maximum depth of the tree\n",
        "    'min_samples_split': [2, 5, 10],         # Minimum number of samples required to split an internal node\n",
        "    'min_samples_leaf': [1, 2, 4],           # Minimum number of samples required to be at a leaf node\n",
        "    'max_features': ['sqrt'],       # Number of features to consider when looking for the best split\n",
        "}\n",
        "\n",
        "# Perform GridSearchCV to find the best hyperparameters\n",
        "grid_search = GridSearchCV(rf_model, param_grid, cv=5)\n",
        "grid_search.fit(X_train, y_train)\n",
        "\n",
        "# Get the best hyperparameters and model\n",
        "best_params = grid_search.best_params_\n",
        "best_model = grid_search.best_estimator_\n",
        "\n",
        "# Make predictions on the test set using the best model\n",
        "y_pred_rf = best_model.predict(X_test)\n",
        "\n",
        "# Calculate the accuracy of the Random Forest model\n",
        "accuracy_rf = accuracy_score(y_test, y_pred_rf)\n",
        "print(\"Random Forest Accuracy:\", accuracy_rf)\n",
        "print(\"Best Hyperparameters:\", best_params)\n",
        "\n",
        "# To Launch MLFlow UI open a terminal and run the following command - mlflow ui\n"
      ]
    },
    {
      "cell_type": "markdown",
      "metadata": {
        "id": "8DfNGSyaX3kV"
      },
      "source": [
        "## Gradient Boosting"
      ]
    },
    {
      "cell_type": "code",
      "execution_count": 30,
      "metadata": {
        "colab": {
          "base_uri": "https://localhost:8080/"
        },
        "id": "NBUNIc9wAzvF",
        "outputId": "91db7722-33bb-4ea7-d39d-e0d6f484d698"
      },
      "outputs": [
        {
          "data": {
            "image/png": "[encoded data removed]",
            "text/plain": [
              "<Figure size 640x480 with 2 Axes>"
            ]
          },
          "metadata": {},
          "output_type": "display_data"
        },
        {
          "name": "stdout",
          "output_type": "stream",
          "text": [
            "Gradient Boosting Accuracy: 0.8695833333333334\n"
          ]
        },
        {
          "data": {
            "image/png": "[encoded data removed]",
            "text/plain": [
              "<Figure size 640x480 with 2 Axes>"
            ]
          },
          "metadata": {},
          "output_type": "display_data"
        },
        {
          "name": "stdout",
          "output_type": "stream",
          "text": [
            "Hist Gradient Boosting Accuracy: 0.88125\n"
          ]
        }
      ],
      "source": [
        "from sklearn.ensemble import GradientBoostingClassifier\n",
        "from sklearn.metrics import accuracy_score\n",
        "from sklearn.ensemble import HistGradientBoostingClassifier\n",
        "\n",
        "\n",
        "\n",
        "with mlflow.start_run():\n",
        "    # Initialize the model\n",
        "    gb_model = GradientBoostingClassifier(random_state=42)\n",
        "    hgb_model = HistGradientBoostingClassifier(random_state=42)\n",
        "\n",
        "    # Calculate the accuracy of the Gradient Boosting model\n",
        "    accuracy_gb = train_and_test_model(gb_model, X_train, X_test, y_train, y_test)\n",
        "\n",
        "    # Log parameters and metrics\n",
        "    mlflow.log_param(\"random_state\", 42)\n",
        "    mlflow.log_param(\"n_estimators\", gb_model.n_estimators)\n",
        "    mlflow.log_param(\"learning_rate\", gb_model.learning_rate)\n",
        "    mlflow.log_metric(\"accuracy\", accuracy_gb)\n",
        "\n",
        "    # Log the model\n",
        "    mlflow.sklearn.log_model(gb_model, \"gradient_boosting_model\")\n",
        "\n",
        "    # Print the accuracy\n",
        "    print(\"Gradient Boosting Accuracy:\", accuracy_gb)\n",
        "    print(\"Hist Gradient Boosting Accuracy:\", train_and_test_model(hgb_model, X_train, X_test, y_train, y_test))\n"
      ]
    },
    {
      "cell_type": "markdown",
      "metadata": {
        "id": "Q1L945YBW8hx"
      },
      "source": [
        "GridSearch"
      ]
    },
    {
      "cell_type": "code",
      "execution_count": 13,
      "metadata": {
        "colab": {
          "base_uri": "https://localhost:8080/"
        },
        "id": "0iD-fcbeW6NG",
        "outputId": "f25bbfd6-eb0e-4516-fbd3-ee1355c603f6"
      },
      "outputs": [
        {
          "ename": "ValueError",
          "evalue": "Found input variables with inconsistent numbers of samples: [6400, 9600]",
          "output_type": "error",
          "traceback": [
            "\u001b[0;31m---------------------------------------------------------------------------\u001b[0m",
            "\u001b[0;31mValueError\u001b[0m                                Traceback (most recent call last)",
            "Cell \u001b[0;32mIn[13], line 17\u001b[0m\n\u001b[1;32m     15\u001b[0m \u001b[38;5;66;03m# Perform Grid Search with cross-validation (cv=5) to find the best hyperparameters\u001b[39;00m\n\u001b[1;32m     16\u001b[0m grid_search \u001b[38;5;241m=\u001b[39m GridSearchCV(gb_model, param_grid, cv\u001b[38;5;241m=\u001b[39m\u001b[38;5;241m5\u001b[39m)\n\u001b[0;32m---> 17\u001b[0m grid_search\u001b[38;5;241m.\u001b[39mfit(X_train_with_entropy, y_train)\n\u001b[1;32m     19\u001b[0m \u001b[38;5;66;03m# Get the best hyperparameters and model\u001b[39;00m\n\u001b[1;32m     20\u001b[0m best_params \u001b[38;5;241m=\u001b[39m grid_search\u001b[38;5;241m.\u001b[39mbest_params_\n",
            "File \u001b[0;32m/opt/anaconda3/lib/python3.11/site-packages/sklearn/model_selection/_search.py:782\u001b[0m, in \u001b[0;36mBaseSearchCV.fit\u001b[0;34m(self, X, y, groups, **fit_params)\u001b[0m\n\u001b[1;32m    779\u001b[0m     \u001b[38;5;28mself\u001b[39m\u001b[38;5;241m.\u001b[39m_check_refit_for_multimetric(scorers)\n\u001b[1;32m    780\u001b[0m     refit_metric \u001b[38;5;241m=\u001b[39m \u001b[38;5;28mself\u001b[39m\u001b[38;5;241m.\u001b[39mrefit\n\u001b[0;32m--> 782\u001b[0m X, y, groups \u001b[38;5;241m=\u001b[39m indexable(X, y, groups)\n\u001b[1;32m    783\u001b[0m fit_params \u001b[38;5;241m=\u001b[39m _check_fit_params(X, fit_params)\n\u001b[1;32m    785\u001b[0m cv_orig \u001b[38;5;241m=\u001b[39m check_cv(\u001b[38;5;28mself\u001b[39m\u001b[38;5;241m.\u001b[39mcv, y, classifier\u001b[38;5;241m=\u001b[39mis_classifier(estimator))\n",
            "File \u001b[0;32m/opt/anaconda3/lib/python3.11/site-packages/sklearn/utils/validation.py:443\u001b[0m, in \u001b[0;36mindexable\u001b[0;34m(*iterables)\u001b[0m\n\u001b[1;32m    424\u001b[0m \u001b[38;5;250m\u001b[39m\u001b[38;5;124;03m\"\"\"Make arrays indexable for cross-validation.\u001b[39;00m\n\u001b[1;32m    425\u001b[0m \n\u001b[1;32m    426\u001b[0m \u001b[38;5;124;03mChecks consistent length, passes through None, and ensures that everything\u001b[39;00m\n\u001b[0;32m   (...)\u001b[0m\n\u001b[1;32m    439\u001b[0m \u001b[38;5;124;03m    sparse matrix, or dataframe) or `None`.\u001b[39;00m\n\u001b[1;32m    440\u001b[0m \u001b[38;5;124;03m\"\"\"\u001b[39;00m\n\u001b[1;32m    442\u001b[0m result \u001b[38;5;241m=\u001b[39m [_make_indexable(X) \u001b[38;5;28;01mfor\u001b[39;00m X \u001b[38;5;129;01min\u001b[39;00m iterables]\n\u001b[0;32m--> 443\u001b[0m check_consistent_length(\u001b[38;5;241m*\u001b[39mresult)\n\u001b[1;32m    444\u001b[0m \u001b[38;5;28;01mreturn\u001b[39;00m result\n",
            "File \u001b[0;32m/opt/anaconda3/lib/python3.11/site-packages/sklearn/utils/validation.py:397\u001b[0m, in \u001b[0;36mcheck_consistent_length\u001b[0;34m(*arrays)\u001b[0m\n\u001b[1;32m    395\u001b[0m uniques \u001b[38;5;241m=\u001b[39m np\u001b[38;5;241m.\u001b[39munique(lengths)\n\u001b[1;32m    396\u001b[0m \u001b[38;5;28;01mif\u001b[39;00m \u001b[38;5;28mlen\u001b[39m(uniques) \u001b[38;5;241m>\u001b[39m \u001b[38;5;241m1\u001b[39m:\n\u001b[0;32m--> 397\u001b[0m     \u001b[38;5;28;01mraise\u001b[39;00m \u001b[38;5;167;01mValueError\u001b[39;00m(\n\u001b[1;32m    398\u001b[0m         \u001b[38;5;124m\"\u001b[39m\u001b[38;5;124mFound input variables with inconsistent numbers of samples: \u001b[39m\u001b[38;5;132;01m%r\u001b[39;00m\u001b[38;5;124m\"\u001b[39m\n\u001b[1;32m    399\u001b[0m         \u001b[38;5;241m%\u001b[39m [\u001b[38;5;28mint\u001b[39m(l) \u001b[38;5;28;01mfor\u001b[39;00m l \u001b[38;5;129;01min\u001b[39;00m lengths]\n\u001b[1;32m    400\u001b[0m     )\n",
            "\u001b[0;31mValueError\u001b[0m: Found input variables with inconsistent numbers of samples: [6400, 9600]"
          ]
        }
      ],
      "source": [
        "from sklearn.model_selection import GridSearchCV\n",
        "from sklearn.ensemble import GradientBoostingClassifier\n",
        "\n",
        "\n",
        "\n",
        "# Create the Gradient Boosting classifier\n",
        "gb_model = GradientBoostingClassifier(random_state=42)\n",
        "\n",
        "\n",
        "# Define the hyperparameter grid for Grid Search\n",
        "param_grid = {\n",
        "    'n_estimators': [50, 100, 150],\n",
        "    'learning_rate': [0.01, 0.1, 0.2],\n",
        "    'max_depth': [3, 5, 7],\n",
        "}\n",
        "\n",
        "# Perform Grid Search with cross-validation (cv=5) to find the best hyperparameters\n",
        "grid_search = GridSearchCV(gb_model, param_grid, cv=5)\n",
        "grid_search.fit(X_train, y_train)\n",
        "\n",
        "# Get the best hyperparameters and model\n",
        "best_params = grid_search.best_params_\n",
        "best_model = grid_search.best_estimator_\n",
        "\n",
        "# Make predictions on the test set using the best model\n",
        "y_pred_gb = best_model.predict(X_test)\n",
        "\n",
        "# Calculate the accuracy of the Gradient Boosting model with the best hyperparameters\n",
        "accuracy_gb = accuracy_score(y_test, y_pred_gb)\n",
        "print(\"Best Hyperparameters:\", best_params)\n",
        "print(\"Gradient Boosting Accuracy:\", accuracy_gb)\n"
      ]
    },
    {
      "cell_type": "code",
      "execution_count": null,
      "metadata": {},
      "outputs": [],
      "source": []
    },
    {
      "cell_type": "markdown",
      "metadata": {
        "id": "c6rTZWuztjNr"
      },
      "source": [
        "## XGBoost"
      ]
    },
    {
      "cell_type": "code",
      "execution_count": 57,
      "metadata": {},
      "outputs": [
        {
          "ename": "ValueError",
          "evalue": "Invalid classes inferred from unique values of `y`.  Expected: [0 1], got [0 3]",
          "output_type": "error",
          "traceback": [
            "\u001b[0;31m---------------------------------------------------------------------------\u001b[0m",
            "\u001b[0;31mValueError\u001b[0m                                Traceback (most recent call last)",
            "Cell \u001b[0;32mIn[57], line 5\u001b[0m\n\u001b[1;32m      3\u001b[0m y_train_mapped \u001b[38;5;241m=\u001b[39m y_train\u001b[38;5;241m-\u001b[39m\u001b[38;5;241m1\u001b[39m\n\u001b[1;32m      4\u001b[0m y_test_mapped \u001b[38;5;241m=\u001b[39m y_test\u001b[38;5;241m-\u001b[39m\u001b[38;5;241m1\u001b[39m\n\u001b[0;32m----> 5\u001b[0m train_and_test_model(xgb_model, X_train, X_test, y_train_mapped, y_test_mapped)\n",
            "Cell \u001b[0;32mIn[50], line 10\u001b[0m, in \u001b[0;36mtrain_and_test_model\u001b[0;34m(model, X_train, X_test, y_train, y_test)\u001b[0m\n\u001b[1;32m      9\u001b[0m \u001b[38;5;28;01mdef\u001b[39;00m \u001b[38;5;21mtrain_and_test_model\u001b[39m(model, X_train, X_test, y_train, y_test):\n\u001b[0;32m---> 10\u001b[0m     model\u001b[38;5;241m.\u001b[39mfit(X_train, y_train)\n\u001b[1;32m     11\u001b[0m     y_pred \u001b[38;5;241m=\u001b[39m model\u001b[38;5;241m.\u001b[39mpredict(X_test)\n\u001b[1;32m     12\u001b[0m     \u001b[38;5;66;03m#y_prob = model.predict_proba(X_test)\u001b[39;00m\n",
            "File \u001b[0;32m/opt/anaconda3/lib/python3.11/site-packages/xgboost/core.py:730\u001b[0m, in \u001b[0;36mrequire_keyword_args.<locals>.throw_if.<locals>.inner_f\u001b[0;34m(*args, **kwargs)\u001b[0m\n\u001b[1;32m    728\u001b[0m \u001b[38;5;28;01mfor\u001b[39;00m k, arg \u001b[38;5;129;01min\u001b[39;00m \u001b[38;5;28mzip\u001b[39m(sig\u001b[38;5;241m.\u001b[39mparameters, args):\n\u001b[1;32m    729\u001b[0m     kwargs[k] \u001b[38;5;241m=\u001b[39m arg\n\u001b[0;32m--> 730\u001b[0m \u001b[38;5;28;01mreturn\u001b[39;00m func(\u001b[38;5;241m*\u001b[39m\u001b[38;5;241m*\u001b[39mkwargs)\n",
            "File \u001b[0;32m/opt/anaconda3/lib/python3.11/site-packages/xgboost/sklearn.py:1471\u001b[0m, in \u001b[0;36mXGBClassifier.fit\u001b[0;34m(self, X, y, sample_weight, base_margin, eval_set, eval_metric, early_stopping_rounds, verbose, xgb_model, sample_weight_eval_set, base_margin_eval_set, feature_weights, callbacks)\u001b[0m\n\u001b[1;32m   1466\u001b[0m     expected_classes \u001b[38;5;241m=\u001b[39m \u001b[38;5;28mself\u001b[39m\u001b[38;5;241m.\u001b[39mclasses_\n\u001b[1;32m   1467\u001b[0m \u001b[38;5;28;01mif\u001b[39;00m (\n\u001b[1;32m   1468\u001b[0m     classes\u001b[38;5;241m.\u001b[39mshape \u001b[38;5;241m!=\u001b[39m expected_classes\u001b[38;5;241m.\u001b[39mshape\n\u001b[1;32m   1469\u001b[0m     \u001b[38;5;129;01mor\u001b[39;00m \u001b[38;5;129;01mnot\u001b[39;00m (classes \u001b[38;5;241m==\u001b[39m expected_classes)\u001b[38;5;241m.\u001b[39mall()\n\u001b[1;32m   1470\u001b[0m ):\n\u001b[0;32m-> 1471\u001b[0m     \u001b[38;5;28;01mraise\u001b[39;00m \u001b[38;5;167;01mValueError\u001b[39;00m(\n\u001b[1;32m   1472\u001b[0m         \u001b[38;5;124mf\u001b[39m\u001b[38;5;124m\"\u001b[39m\u001b[38;5;124mInvalid classes inferred from unique values of `y`.  \u001b[39m\u001b[38;5;124m\"\u001b[39m\n\u001b[1;32m   1473\u001b[0m         \u001b[38;5;124mf\u001b[39m\u001b[38;5;124m\"\u001b[39m\u001b[38;5;124mExpected: \u001b[39m\u001b[38;5;132;01m{\u001b[39;00mexpected_classes\u001b[38;5;132;01m}\u001b[39;00m\u001b[38;5;124m, got \u001b[39m\u001b[38;5;132;01m{\u001b[39;00mclasses\u001b[38;5;132;01m}\u001b[39;00m\u001b[38;5;124m\"\u001b[39m\n\u001b[1;32m   1474\u001b[0m     )\n\u001b[1;32m   1476\u001b[0m params \u001b[38;5;241m=\u001b[39m \u001b[38;5;28mself\u001b[39m\u001b[38;5;241m.\u001b[39mget_xgb_params()\n\u001b[1;32m   1478\u001b[0m \u001b[38;5;28;01mif\u001b[39;00m \u001b[38;5;28mcallable\u001b[39m(\u001b[38;5;28mself\u001b[39m\u001b[38;5;241m.\u001b[39mobjective):\n",
            "\u001b[0;31mValueError\u001b[0m: Invalid classes inferred from unique values of `y`.  Expected: [0 1], got [0 3]"
          ]
        }
      ],
      "source": []
    },
    {
      "cell_type": "code",
      "execution_count": 58,
      "metadata": {
        "colab": {
          "base_uri": "https://localhost:8080/"
        },
        "id": "i4qdLReQtmZ1",
        "outputId": "85c7db2a-2634-4203-b910-d940e2277d82"
      },
      "outputs": [
        {
          "ename": "ValueError",
          "evalue": "\nAll the 135 fits failed.\nIt is very likely that your model is misconfigured.\nYou can try to debug the error by setting error_score='raise'.\n\nBelow are more details about the failures:\n--------------------------------------------------------------------------------\n135 fits failed with the following error:\nTraceback (most recent call last):\n  File \"/opt/anaconda3/lib/python3.11/site-packages/sklearn/model_selection/_validation.py\", line 686, in _fit_and_score\n    estimator.fit(X_train, y_train, **fit_params)\n  File \"/opt/anaconda3/lib/python3.11/site-packages/xgboost/core.py\", line 730, in inner_f\n    return func(**kwargs)\n           ^^^^^^^^^^^^^^\n  File \"/opt/anaconda3/lib/python3.11/site-packages/xgboost/sklearn.py\", line 1471, in fit\n    raise ValueError(\nValueError: Invalid classes inferred from unique values of `y`.  Expected: [0 1], got [0 3]\n",
          "output_type": "error",
          "traceback": [
            "\u001b[0;31m---------------------------------------------------------------------------\u001b[0m",
            "\u001b[0;31mValueError\u001b[0m                                Traceback (most recent call last)",
            "Cell \u001b[0;32mIn[58], line 20\u001b[0m\n\u001b[1;32m     18\u001b[0m \u001b[38;5;66;03m# Continue with the Grid Search\u001b[39;00m\n\u001b[1;32m     19\u001b[0m grid_search \u001b[38;5;241m=\u001b[39m GridSearchCV(xgb_model, param_grid, cv\u001b[38;5;241m=\u001b[39m\u001b[38;5;241m5\u001b[39m)\n\u001b[0;32m---> 20\u001b[0m grid_search\u001b[38;5;241m.\u001b[39mfit(X_train, y_train_mapped)\n\u001b[1;32m     22\u001b[0m \u001b[38;5;66;03m# Get the best hyperparameters and model\u001b[39;00m\n\u001b[1;32m     23\u001b[0m best_params \u001b[38;5;241m=\u001b[39m grid_search\u001b[38;5;241m.\u001b[39mbest_params_\n",
            "File \u001b[0;32m/opt/anaconda3/lib/python3.11/site-packages/sklearn/model_selection/_search.py:874\u001b[0m, in \u001b[0;36mBaseSearchCV.fit\u001b[0;34m(self, X, y, groups, **fit_params)\u001b[0m\n\u001b[1;32m    868\u001b[0m     results \u001b[38;5;241m=\u001b[39m \u001b[38;5;28mself\u001b[39m\u001b[38;5;241m.\u001b[39m_format_results(\n\u001b[1;32m    869\u001b[0m         all_candidate_params, n_splits, all_out, all_more_results\n\u001b[1;32m    870\u001b[0m     )\n\u001b[1;32m    872\u001b[0m     \u001b[38;5;28;01mreturn\u001b[39;00m results\n\u001b[0;32m--> 874\u001b[0m \u001b[38;5;28mself\u001b[39m\u001b[38;5;241m.\u001b[39m_run_search(evaluate_candidates)\n\u001b[1;32m    876\u001b[0m \u001b[38;5;66;03m# multimetric is determined here because in the case of a callable\u001b[39;00m\n\u001b[1;32m    877\u001b[0m \u001b[38;5;66;03m# self.scoring the return type is only known after calling\u001b[39;00m\n\u001b[1;32m    878\u001b[0m first_test_score \u001b[38;5;241m=\u001b[39m all_out[\u001b[38;5;241m0\u001b[39m][\u001b[38;5;124m\"\u001b[39m\u001b[38;5;124mtest_scores\u001b[39m\u001b[38;5;124m\"\u001b[39m]\n",
            "File \u001b[0;32m/opt/anaconda3/lib/python3.11/site-packages/sklearn/model_selection/_search.py:1388\u001b[0m, in \u001b[0;36mGridSearchCV._run_search\u001b[0;34m(self, evaluate_candidates)\u001b[0m\n\u001b[1;32m   1386\u001b[0m \u001b[38;5;28;01mdef\u001b[39;00m \u001b[38;5;21m_run_search\u001b[39m(\u001b[38;5;28mself\u001b[39m, evaluate_candidates):\n\u001b[1;32m   1387\u001b[0m \u001b[38;5;250m    \u001b[39m\u001b[38;5;124;03m\"\"\"Search all candidates in param_grid\"\"\"\u001b[39;00m\n\u001b[0;32m-> 1388\u001b[0m     evaluate_candidates(ParameterGrid(\u001b[38;5;28mself\u001b[39m\u001b[38;5;241m.\u001b[39mparam_grid))\n",
            "File \u001b[0;32m/opt/anaconda3/lib/python3.11/site-packages/sklearn/model_selection/_search.py:851\u001b[0m, in \u001b[0;36mBaseSearchCV.fit.<locals>.evaluate_candidates\u001b[0;34m(candidate_params, cv, more_results)\u001b[0m\n\u001b[1;32m    844\u001b[0m \u001b[38;5;28;01melif\u001b[39;00m \u001b[38;5;28mlen\u001b[39m(out) \u001b[38;5;241m!=\u001b[39m n_candidates \u001b[38;5;241m*\u001b[39m n_splits:\n\u001b[1;32m    845\u001b[0m     \u001b[38;5;28;01mraise\u001b[39;00m \u001b[38;5;167;01mValueError\u001b[39;00m(\n\u001b[1;32m    846\u001b[0m         \u001b[38;5;124m\"\u001b[39m\u001b[38;5;124mcv.split and cv.get_n_splits returned \u001b[39m\u001b[38;5;124m\"\u001b[39m\n\u001b[1;32m    847\u001b[0m         \u001b[38;5;124m\"\u001b[39m\u001b[38;5;124minconsistent results. Expected \u001b[39m\u001b[38;5;132;01m{}\u001b[39;00m\u001b[38;5;124m \u001b[39m\u001b[38;5;124m\"\u001b[39m\n\u001b[1;32m    848\u001b[0m         \u001b[38;5;124m\"\u001b[39m\u001b[38;5;124msplits, got \u001b[39m\u001b[38;5;132;01m{}\u001b[39;00m\u001b[38;5;124m\"\u001b[39m\u001b[38;5;241m.\u001b[39mformat(n_splits, \u001b[38;5;28mlen\u001b[39m(out) \u001b[38;5;241m/\u001b[39m\u001b[38;5;241m/\u001b[39m n_candidates)\n\u001b[1;32m    849\u001b[0m     )\n\u001b[0;32m--> 851\u001b[0m _warn_or_raise_about_fit_failures(out, \u001b[38;5;28mself\u001b[39m\u001b[38;5;241m.\u001b[39merror_score)\n\u001b[1;32m    853\u001b[0m \u001b[38;5;66;03m# For callable self.scoring, the return type is only know after\u001b[39;00m\n\u001b[1;32m    854\u001b[0m \u001b[38;5;66;03m# calling. If the return type is a dictionary, the error scores\u001b[39;00m\n\u001b[1;32m    855\u001b[0m \u001b[38;5;66;03m# can now be inserted with the correct key. The type checking\u001b[39;00m\n\u001b[1;32m    856\u001b[0m \u001b[38;5;66;03m# of out will be done in `_insert_error_scores`.\u001b[39;00m\n\u001b[1;32m    857\u001b[0m \u001b[38;5;28;01mif\u001b[39;00m \u001b[38;5;28mcallable\u001b[39m(\u001b[38;5;28mself\u001b[39m\u001b[38;5;241m.\u001b[39mscoring):\n",
            "File \u001b[0;32m/opt/anaconda3/lib/python3.11/site-packages/sklearn/model_selection/_validation.py:367\u001b[0m, in \u001b[0;36m_warn_or_raise_about_fit_failures\u001b[0;34m(results, error_score)\u001b[0m\n\u001b[1;32m    360\u001b[0m \u001b[38;5;28;01mif\u001b[39;00m num_failed_fits \u001b[38;5;241m==\u001b[39m num_fits:\n\u001b[1;32m    361\u001b[0m     all_fits_failed_message \u001b[38;5;241m=\u001b[39m (\n\u001b[1;32m    362\u001b[0m         \u001b[38;5;124mf\u001b[39m\u001b[38;5;124m\"\u001b[39m\u001b[38;5;130;01m\\n\u001b[39;00m\u001b[38;5;124mAll the \u001b[39m\u001b[38;5;132;01m{\u001b[39;00mnum_fits\u001b[38;5;132;01m}\u001b[39;00m\u001b[38;5;124m fits failed.\u001b[39m\u001b[38;5;130;01m\\n\u001b[39;00m\u001b[38;5;124m\"\u001b[39m\n\u001b[1;32m    363\u001b[0m         \u001b[38;5;124m\"\u001b[39m\u001b[38;5;124mIt is very likely that your model is misconfigured.\u001b[39m\u001b[38;5;130;01m\\n\u001b[39;00m\u001b[38;5;124m\"\u001b[39m\n\u001b[1;32m    364\u001b[0m         \u001b[38;5;124m\"\u001b[39m\u001b[38;5;124mYou can try to debug the error by setting error_score=\u001b[39m\u001b[38;5;124m'\u001b[39m\u001b[38;5;124mraise\u001b[39m\u001b[38;5;124m'\u001b[39m\u001b[38;5;124m.\u001b[39m\u001b[38;5;130;01m\\n\u001b[39;00m\u001b[38;5;130;01m\\n\u001b[39;00m\u001b[38;5;124m\"\u001b[39m\n\u001b[1;32m    365\u001b[0m         \u001b[38;5;124mf\u001b[39m\u001b[38;5;124m\"\u001b[39m\u001b[38;5;124mBelow are more details about the failures:\u001b[39m\u001b[38;5;130;01m\\n\u001b[39;00m\u001b[38;5;132;01m{\u001b[39;00mfit_errors_summary\u001b[38;5;132;01m}\u001b[39;00m\u001b[38;5;124m\"\u001b[39m\n\u001b[1;32m    366\u001b[0m     )\n\u001b[0;32m--> 367\u001b[0m     \u001b[38;5;28;01mraise\u001b[39;00m \u001b[38;5;167;01mValueError\u001b[39;00m(all_fits_failed_message)\n\u001b[1;32m    369\u001b[0m \u001b[38;5;28;01melse\u001b[39;00m:\n\u001b[1;32m    370\u001b[0m     some_fits_failed_message \u001b[38;5;241m=\u001b[39m (\n\u001b[1;32m    371\u001b[0m         \u001b[38;5;124mf\u001b[39m\u001b[38;5;124m\"\u001b[39m\u001b[38;5;130;01m\\n\u001b[39;00m\u001b[38;5;132;01m{\u001b[39;00mnum_failed_fits\u001b[38;5;132;01m}\u001b[39;00m\u001b[38;5;124m fits failed out of a total of \u001b[39m\u001b[38;5;132;01m{\u001b[39;00mnum_fits\u001b[38;5;132;01m}\u001b[39;00m\u001b[38;5;124m.\u001b[39m\u001b[38;5;130;01m\\n\u001b[39;00m\u001b[38;5;124m\"\u001b[39m\n\u001b[1;32m    372\u001b[0m         \u001b[38;5;124m\"\u001b[39m\u001b[38;5;124mThe score on these train-test partitions for these parameters\u001b[39m\u001b[38;5;124m\"\u001b[39m\n\u001b[0;32m   (...)\u001b[0m\n\u001b[1;32m    376\u001b[0m         \u001b[38;5;124mf\u001b[39m\u001b[38;5;124m\"\u001b[39m\u001b[38;5;124mBelow are more details about the failures:\u001b[39m\u001b[38;5;130;01m\\n\u001b[39;00m\u001b[38;5;132;01m{\u001b[39;00mfit_errors_summary\u001b[38;5;132;01m}\u001b[39;00m\u001b[38;5;124m\"\u001b[39m\n\u001b[1;32m    377\u001b[0m     )\n",
            "\u001b[0;31mValueError\u001b[0m: \nAll the 135 fits failed.\nIt is very likely that your model is misconfigured.\nYou can try to debug the error by setting error_score='raise'.\n\nBelow are more details about the failures:\n--------------------------------------------------------------------------------\n135 fits failed with the following error:\nTraceback (most recent call last):\n  File \"/opt/anaconda3/lib/python3.11/site-packages/sklearn/model_selection/_validation.py\", line 686, in _fit_and_score\n    estimator.fit(X_train, y_train, **fit_params)\n  File \"/opt/anaconda3/lib/python3.11/site-packages/xgboost/core.py\", line 730, in inner_f\n    return func(**kwargs)\n           ^^^^^^^^^^^^^^\n  File \"/opt/anaconda3/lib/python3.11/site-packages/xgboost/sklearn.py\", line 1471, in fit\n    raise ValueError(\nValueError: Invalid classes inferred from unique values of `y`.  Expected: [0 1], got [0 3]\n"
          ]
        }
      ],
      "source": [
        "import xgboost as xgb\n",
        "from sklearn.model_selection import GridSearchCV\n",
        "\n",
        "\n",
        "# Create the XGBoost classifier\n",
        "xgb_model = xgb.XGBClassifier(random_state=42)\n",
        "\n",
        "# Define the hyperparameter grid for Grid Search\n",
        "param_grid = {\n",
        "    'n_estimators': [100, 200, 300],\n",
        "    'learning_rate': [0.01, 0.1, 0.2],\n",
        "    'max_depth': [3, 5, 7],\n",
        "}\n",
        "\n",
        "# Map classes to [0, 1, 2]\n",
        "y_train_mapped = y_train - 1  # This will change classes [1, 2, 3] to [0, 1, 2]\n",
        "\n",
        "# Continue with the Grid Search\n",
        "grid_search = GridSearchCV(xgb_model, param_grid, cv=5)\n",
        "grid_search.fit(X_train, y_train_mapped)\n",
        "\n",
        "# Get the best hyperparameters and model\n",
        "best_params = grid_search.best_params_\n",
        "best_xgb_model = grid_search.best_estimator_\n",
        "\n",
        "# Make predictions on the test set using the best XGBoost model\n",
        "y_pred_xgb = best_xgb_model.predict(X_test)\n",
        "\n",
        "# Calculate the accuracy of the XGBoost model with the best hyperparameters\n",
        "accuracy_xgb = accuracy_score(y_test, y_pred_xgb)\n",
        "print(\"Best Hyperparameters for XGBoost:\", best_params)\n",
        "print(\"XGBoost Accuracy:\", accuracy_xgb)\n"
      ]
    },
    {
      "cell_type": "markdown",
      "metadata": {},
      "source": []
    },
    {
      "cell_type": "markdown",
      "metadata": {
        "id": "h_stlSoN3x3s"
      },
      "source": []
    },
    {
      "cell_type": "markdown",
      "metadata": {
        "id": "BVKGPCOT3x9q"
      },
      "source": [
        "## CatBoost"
      ]
    },
    {
      "cell_type": "code",
      "execution_count": 6,
      "metadata": {},
      "outputs": [
        {
          "ename": "",
          "evalue": "",
          "output_type": "error",
          "traceback": [
            "\u001b[1;31mThe Kernel crashed while executing code in the current cell or a previous cell. \n",
            "\u001b[1;31mPlease review the code in the cell(s) to identify a possible cause of the failure. \n",
            "\u001b[1;31mClick <a href='https://aka.ms/vscodeJupyterKernelCrash'>here</a> for more info. \n",
            "\u001b[1;31mView Jupyter <a href='command:jupyter.viewOutput'>log</a> for further details."
          ]
        }
      ],
      "source": [
        "\n",
        "import lightgbm as lgb\n",
        "lgb_model = lgb.LGBMClassifier(random_state=42, n_jobs=jobs, boosting_type='gbdt')\n",
        "train_and_test_model(lgb_model, X_train, X_test, y_train, y_test)"
      ]
    },
    {
      "cell_type": "code",
      "execution_count": 60,
      "metadata": {
        "colab": {
          "base_uri": "https://localhost:8080/"
        },
        "id": "QXVAMJrx3xLr",
        "outputId": "c38cd918-64d1-4d74-ede9-90354ac3b778"
      },
      "outputs": [
        {
          "name": "stderr",
          "output_type": "stream",
          "text": [
            "/opt/anaconda3/lib/python3.11/site-packages/dask/dataframe/_pyarrow_compat.py:23: UserWarning: You are using pyarrow version 11.0.0 which is known to be insecure. See https://www.cve.org/CVERecord?id=CVE-2023-47248 for further details. Please upgrade to pyarrow>=14.0.1 or install pyarrow-hotfix to patch your current version.\n",
            "  warnings.warn(\n"
          ]
        }
      ],
      "source": [
        "import lightgbm as lgb\n",
        "\n",
        "# Create the LightGBM classifier\n",
        "lgb_model = lgb.LGBMClassifier(random_state=42)\n",
        "\n",
        "# Define the hyperparameter grid for Grid Search\n",
        "param_grid = {\n",
        "    'n_estimators': [50, 100, 150],\n",
        "    'learning_rate': [0.01, 0.1, 0.2],\n",
        "    'max_depth': [3, 5, 7],\n",
        "}\n",
        "\n",
        "# Perform Grid Search with cross-validation (cv=5) to find the best hyperparameters\n",
        "grid_search = GridSearchCV(lgb_model, param_grid, cv=5)\n",
        "grid_search.fit(X_train, y_train)\n",
        "\n",
        "# Get the best hyperparameters and model\n",
        "best_params = grid_search.best_params_\n",
        "best_lgb_model = grid_search.best_estimator_\n",
        "\n",
        "# Make predictions on the test set using the best LightGBM model\n",
        "y_pred_lgb = best_lgb_model.predict(X_test)\n",
        "\n",
        "# Calculate the accuracy of the LightGBM model with the best hyperparameters\n",
        "accuracy_lgb = accuracy_score(y_test, y_pred_lgb)\n",
        "print(\"Best Hyperparameters for LightGBM:\", best_params)\n",
        "print(\"LightGBM Accuracy:\", accuracy_lgb)\n"
      ]
    },
    {
      "cell_type": "markdown",
      "metadata": {
        "id": "z3RxycX8X8wX"
      },
      "source": [
        "## Neural Network"
      ]
    },
    {
      "cell_type": "code",
      "execution_count": 46,
      "metadata": {
        "colab": {
          "base_uri": "https://localhost:8080/"
        },
        "id": "htyjktKSX-cN",
        "outputId": "04255ea4-c379-4f5f-9b09-8ff8dd70ef1e"
      },
      "outputs": [
        {
          "name": "stderr",
          "output_type": "stream",
          "text": [
            "2024-06-13 14:09:05.086429: W tensorflow/tsl/platform/profile_utils/cpu_utils.cc:128] Failed to get CPU frequency: 0 Hz\n"
          ]
        },
        {
          "name": "stdout",
          "output_type": "stream",
          "text": [
            "100/100 [==============================] - 0s 498us/step\n",
            "Neural Network Accuracy: 0.7865625\n"
          ]
        },
        {
          "ename": "NameError",
          "evalue": "name 'ConfusionMatrixDisplay' is not defined",
          "output_type": "error",
          "traceback": [
            "\u001b[0;31m---------------------------------------------------------------------------\u001b[0m",
            "\u001b[0;31mNameError\u001b[0m                                 Traceback (most recent call last)",
            "File \u001b[0;32m<timed exec>:37\u001b[0m\n",
            "\u001b[0;31mNameError\u001b[0m: name 'ConfusionMatrixDisplay' is not defined"
          ]
        }
      ],
      "source": [
        "%%time\n",
        "import numpy as np\n",
        "import keras\n",
        "from keras.models import Sequential\n",
        "from keras.layers import Dense, Input\n",
        "from sklearn.model_selection import train_test_split\n",
        "from sklearn.metrics import accuracy_score\n",
        "\n",
        "keras.utils.set_random_seed(42)\n",
        "\n",
        "y_train_integer = y_train-1 #.astype('float32')\n",
        "y_test_integer = y_test-1 #.astype('float32')\n",
        "\n",
        "X_train_small, X_val, y_train_integer, y_val_integer = train_test_split(X_train, y_train_integer, test_size=0.2, random_state=42)\n",
        "X_train_small = X_train_small.astype('float32')\n",
        "X_val = X_val.astype('float32')\n",
        "\n",
        "# Create the Neural Network model\n",
        "nn_model = Sequential()\n",
        "nn_model.add(Input(shape=(X_train_small.shape[1],)))\n",
        "nn_model.add(Dense(32, activation='relu'))\n",
        "nn_model.add(Dense(16, activation='relu'))\n",
        "nn_model.add(Dense(4, activation='softmax'))\n",
        "\n",
        "# Compile the model\n",
        "nn_model.compile(loss='sparse_categorical_crossentropy', optimizer='adam', metrics=['accuracy'])\n",
        "\n",
        "# Train the model\n",
        "nn_model.fit(X_train_small, y_train_integer, epochs=25, batch_size=64, validation_data=(X_val, y_val_integer), verbose=0)\n",
        "\n",
        "# Make predictions on the test set\n",
        "y_pred_probabilities = nn_model.predict(X_test.astype('float32'))\n",
        "y_pred_nn = np.argmax(y_pred_probabilities, axis=-1)\n",
        "\n",
        "# Calculate the accuracy of the Neural Network model\n",
        "accuracy_nn = accuracy_score(y_test_integer, y_pred_nn)\n",
        "print(\"Neural Network Accuracy:\", accuracy_nn)\n",
        "ConfusionMatrixDisplay.from_predictions(y_test_integer, y_pred_nn)\n",
        "plt.show()\n",
        "plt.close()\n"
      ]
    },
    {
      "cell_type": "markdown",
      "metadata": {
        "id": "qGXQrE8d9d0x"
      },
      "source": []
    },
    {
      "cell_type": "code",
      "execution_count": 47,
      "metadata": {},
      "outputs": [
        {
          "name": "stdout",
          "output_type": "stream",
          "text": [
            "Epoch [1/100], Loss: 0.4030\n",
            "Epoch [2/100], Loss: 0.2550\n",
            "Epoch [3/100], Loss: 0.4659\n",
            "Epoch [4/100], Loss: 0.4976\n",
            "Epoch [5/100], Loss: 0.3265\n",
            "Epoch [6/100], Loss: 0.2392\n",
            "Epoch [7/100], Loss: 0.2690\n",
            "Epoch [8/100], Loss: 0.4503\n",
            "Epoch [9/100], Loss: 0.3265\n",
            "Epoch [10/100], Loss: 0.2888\n",
            "Epoch [11/100], Loss: 0.3349\n",
            "Epoch [12/100], Loss: 0.4263\n",
            "Epoch [13/100], Loss: 0.2713\n",
            "Epoch [14/100], Loss: 0.3613\n",
            "Epoch [15/100], Loss: 0.3564\n",
            "Epoch [16/100], Loss: 0.2610\n",
            "Epoch [17/100], Loss: 0.3074\n",
            "Epoch [18/100], Loss: 0.2276\n",
            "Epoch [19/100], Loss: 0.3096\n",
            "Epoch [20/100], Loss: 0.5256\n",
            "Epoch [21/100], Loss: 0.2720\n",
            "Epoch [22/100], Loss: 0.2485\n",
            "Epoch [23/100], Loss: 0.1853\n",
            "Epoch [24/100], Loss: 0.1641\n",
            "Epoch [25/100], Loss: 0.2211\n",
            "Epoch [26/100], Loss: 0.2175\n",
            "Epoch [27/100], Loss: 0.3333\n",
            "Epoch [28/100], Loss: 0.1698\n",
            "Epoch [29/100], Loss: 0.1998\n",
            "Epoch [30/100], Loss: 0.2045\n",
            "Epoch [31/100], Loss: 0.3368\n",
            "Epoch [32/100], Loss: 0.2244\n",
            "Epoch [33/100], Loss: 0.1627\n",
            "Epoch [34/100], Loss: 0.4418\n",
            "Epoch [35/100], Loss: 0.3805\n",
            "Epoch [36/100], Loss: 0.3510\n",
            "Epoch [37/100], Loss: 0.2880\n",
            "Epoch [38/100], Loss: 0.1648\n",
            "Epoch [39/100], Loss: 0.3564\n",
            "Epoch [40/100], Loss: 0.0660\n",
            "Epoch [41/100], Loss: 0.2524\n",
            "Epoch [42/100], Loss: 0.1330\n",
            "Epoch [43/100], Loss: 0.2931\n",
            "Epoch [44/100], Loss: 0.3111\n",
            "Epoch [45/100], Loss: 0.2651\n",
            "Epoch [46/100], Loss: 0.4218\n",
            "Epoch [47/100], Loss: 0.3030\n",
            "Epoch [48/100], Loss: 0.1605\n",
            "Epoch [49/100], Loss: 0.3583\n",
            "Epoch [50/100], Loss: 0.2276\n",
            "Epoch [51/100], Loss: 0.2822\n",
            "Epoch [52/100], Loss: 0.1982\n",
            "Epoch [53/100], Loss: 0.1711\n",
            "Epoch [54/100], Loss: 0.2350\n",
            "Epoch [55/100], Loss: 0.1519\n",
            "Epoch [56/100], Loss: 0.3660\n",
            "Epoch [57/100], Loss: 0.3598\n",
            "Epoch [58/100], Loss: 0.2045\n",
            "Epoch [59/100], Loss: 0.2334\n",
            "Epoch [60/100], Loss: 0.1530\n",
            "Epoch [61/100], Loss: 0.1601\n",
            "Epoch [62/100], Loss: 0.3253\n",
            "Epoch [63/100], Loss: 0.1977\n",
            "Epoch [64/100], Loss: 0.2077\n",
            "Epoch [65/100], Loss: 0.3132\n",
            "Epoch [66/100], Loss: 0.4100\n",
            "Epoch [67/100], Loss: 0.5563\n",
            "Epoch [68/100], Loss: 0.3336\n",
            "Epoch [69/100], Loss: 0.2957\n",
            "Epoch [70/100], Loss: 0.3512\n",
            "Epoch [71/100], Loss: 0.2280\n",
            "Epoch [72/100], Loss: 0.1591\n",
            "Epoch [73/100], Loss: 0.3398\n",
            "Epoch [74/100], Loss: 0.1698\n",
            "Epoch [75/100], Loss: 0.2273\n",
            "Epoch [76/100], Loss: 0.1274\n",
            "Epoch [77/100], Loss: 0.2109\n",
            "Epoch [78/100], Loss: 0.1671\n",
            "Epoch [79/100], Loss: 0.2542\n",
            "Epoch [80/100], Loss: 0.3112\n",
            "Epoch [81/100], Loss: 0.2251\n",
            "Epoch [82/100], Loss: 0.1548\n",
            "Epoch [83/100], Loss: 0.1322\n",
            "Epoch [84/100], Loss: 0.2029\n",
            "Epoch [85/100], Loss: 0.1282\n",
            "Epoch [86/100], Loss: 0.3357\n",
            "Epoch [87/100], Loss: 0.1913\n",
            "Epoch [88/100], Loss: 0.2633\n",
            "Epoch [89/100], Loss: 0.1246\n",
            "Epoch [90/100], Loss: 0.3590\n",
            "Epoch [91/100], Loss: 0.1828\n",
            "Epoch [92/100], Loss: 0.1169\n",
            "Epoch [93/100], Loss: 0.1565\n",
            "Epoch [94/100], Loss: 0.1751\n",
            "Epoch [95/100], Loss: 0.4501\n",
            "Epoch [96/100], Loss: 0.3192\n",
            "Epoch [97/100], Loss: 0.1864\n",
            "Epoch [98/100], Loss: 0.2409\n",
            "Epoch [99/100], Loss: 0.1202\n",
            "Epoch [100/100], Loss: 0.0985\n",
            "Accuracy of the model on the test set: 78.31%\n"
          ]
        }
      ],
      "source": [
        "import torch\n",
        "import torch.nn as nn\n",
        "import torch.optim as optim\n",
        "from torch.utils.data import DataLoader, TensorDataset\n",
        "from sklearn.model_selection import train_test_split\n",
        "from sklearn.preprocessing import LabelEncoder\n",
        "\n",
        "# Ensure reproducibility\n",
        "torch.manual_seed(42)\n",
        "np.random.seed(42)\n",
        "\n",
        "# Convert to PyTorch tensors\n",
        "X_train_tensor = torch.tensor(X_train, dtype=torch.float32)\n",
        "y_train_tensor = torch.tensor(y_train, dtype=torch.long)\n",
        "X_test_tensor = torch.tensor(X_test, dtype=torch.float32)\n",
        "y_test_tensor = torch.tensor(y_test, dtype=torch.long)\n",
        "\n",
        "# Create DataLoader\n",
        "train_dataset = TensorDataset(X_train_tensor, y_train_tensor)\n",
        "test_dataset = TensorDataset(X_test_tensor, y_test_tensor)\n",
        "\n",
        "train_loader = DataLoader(train_dataset, batch_size=32, shuffle=True)\n",
        "test_loader = DataLoader(test_dataset, batch_size=32, shuffle=False)\n",
        "\n",
        "\n",
        "class MLP(nn.Module):\n",
        "    def __init__(self, input_size, hidden_size, num_classes):\n",
        "        super(MLP, self).__init__()\n",
        "        self.fc1 = nn.Linear(input_size, hidden_size)\n",
        "        self.relu = nn.ReLU()\n",
        "        self.fc2 = nn.Linear(hidden_size, hidden_size)\n",
        "        self.fc3 = nn.Linear(hidden_size, num_classes)\n",
        "    \n",
        "    def forward(self, x):\n",
        "        out = self.fc1(x)\n",
        "        out = self.relu(out)\n",
        "        out = self.fc2(out)\n",
        "        out = self.relu(out)\n",
        "        out = self.fc3(out)\n",
        "        return out\n",
        "\n",
        "# Initialize the model, loss function, and optimizer\n",
        "input_size = X_train.shape[1]\n",
        "hidden_size = 16\n",
        "num_classes = 4  # Labels are 1, 2, 3, 4\n",
        "model = MLP(input_size, hidden_size, num_classes)\n",
        "\n",
        "criterion = nn.CrossEntropyLoss()\n",
        "optimizer = optim.Adam(model.parameters(), lr=0.01)\n",
        "\n",
        "\n",
        "\n",
        "num_epochs = 100\n",
        "\n",
        "for epoch in range(num_epochs):\n",
        "    model.train()\n",
        "    for i, (features, labels) in enumerate(train_loader):\n",
        "        # Forward pass\n",
        "        outputs = model(features)\n",
        "        loss = criterion(outputs, labels - 1)  # labels - 1 to convert to 0-based index\n",
        "        \n",
        "        # Backward and optimize\n",
        "        optimizer.zero_grad()\n",
        "        loss.backward()\n",
        "        optimizer.step()\n",
        "    \n",
        "    print(f'Epoch [{epoch+1}/{num_epochs}], Loss: {loss.item():.4f}')\n",
        "\n",
        "    model.eval()\n",
        "with torch.no_grad():\n",
        "    correct = 0\n",
        "    total = 0\n",
        "    for features, labels in test_loader:\n",
        "        outputs = model(features)\n",
        "        _, predicted = torch.max(outputs.data, 1)\n",
        "        total += labels.size(0)\n",
        "        correct += (predicted == (labels - 1)).sum().item()  # labels - 1 to convert to 0-based index\n",
        "\n",
        "    print(f'Accuracy of the model on the test set: {100 * correct / total:.2f}%')\n"
      ]
    },
    {
      "cell_type": "markdown",
      "metadata": {},
      "source": []
    },
    {
      "cell_type": "markdown",
      "metadata": {},
      "source": [
        "## LSTM"
      ]
    },
    {
      "cell_type": "code",
      "execution_count": null,
      "metadata": {
        "colab": {
          "base_uri": "https://localhost:8080/"
        },
        "id": "2sE0n_hlbMAr",
        "outputId": "3cf01564-e8f0-431b-e490-48ab0299a741"
      },
      "outputs": [
        {
          "ename": "NameError",
          "evalue": "name 'X_train' is not defined",
          "output_type": "error",
          "traceback": [
            "\u001b[0;31m---------------------------------------------------------------------------\u001b[0m",
            "\u001b[0;31mNameError\u001b[0m                                 Traceback (most recent call last)",
            "Cell \u001b[0;32mIn[1], line 11\u001b[0m\n\u001b[1;32m      6\u001b[0m \u001b[38;5;28;01mfrom\u001b[39;00m \u001b[38;5;21;01msklearn\u001b[39;00m\u001b[38;5;21;01m.\u001b[39;00m\u001b[38;5;21;01mmetrics\u001b[39;00m \u001b[38;5;28;01mimport\u001b[39;00m accuracy_score\n\u001b[1;32m      8\u001b[0m \u001b[38;5;66;03m# ... (Previous code for reading and preprocessing the data)\u001b[39;00m\n\u001b[1;32m      9\u001b[0m \n\u001b[1;32m     10\u001b[0m \u001b[38;5;66;03m# Convert the data into numerical format\u001b[39;00m\n\u001b[0;32m---> 11\u001b[0m X_train \u001b[38;5;241m=\u001b[39m X_train\u001b[38;5;241m.\u001b[39mastype(np\u001b[38;5;241m.\u001b[39mfloat32)\n\u001b[1;32m     12\u001b[0m X_test \u001b[38;5;241m=\u001b[39m X_test\u001b[38;5;241m.\u001b[39mastype(np\u001b[38;5;241m.\u001b[39mfloat32)\n\u001b[1;32m     13\u001b[0m y_train \u001b[38;5;241m=\u001b[39m y_train\u001b[38;5;241m.\u001b[39mastype(np\u001b[38;5;241m.\u001b[39mfloat32)\n",
            "\u001b[0;31mNameError\u001b[0m: name 'X_train' is not defined"
          ]
        }
      ],
      "source": [
        "import numpy as np\n",
        "import pandas as pd\n",
        "from keras.models import Sequential\n",
        "from keras.layers import LSTM, Dense\n",
        "from sklearn.model_selection import train_test_split\n",
        "from sklearn.metrics import accuracy_score\n",
        "\n",
        "# ... (Previous code for reading and preprocessing the data)\n",
        "\n",
        "# Convert the data into numerical format\n",
        "X_train = X_train.astype(np.float32)\n",
        "X_test = X_test.astype(np.float32)\n",
        "y_train = y_train.astype(np.float32)\n",
        "y_test = y_test.astype(np.float32)\n",
        "\n",
        "# Reshape the input data for LSTM\n",
        "time_steps = 1  # Each sample is treated as a single time step\n",
        "X_train_lstm = X_train.reshape(X_train.shape[0], time_steps, X_train.shape[1])\n",
        "X_test_lstm = X_test.reshape(X_test.shape[0], time_steps, X_test.shape[1])\n",
        "\n",
        "# Create the LSTM model\n",
        "lstm_model = Sequential()\n",
        "lstm_model.add(LSTM(32, input_shape=(time_steps, X_train.shape[1])))\n",
        "lstm_model.add(Dense(16, activation='relu'))\n",
        "lstm_model.add(Dense(3, activation='sigmoid'))  # Assuming binary classification\n",
        "\n",
        "# Compile the model\n",
        "lstm_model.compile(loss='binary_crossentropy', optimizer='adam', metrics=['accuracy'])\n",
        "\n",
        "# Train the model\n",
        "lstm_model.fit(X_train_lstm, y_train, epochs=50, batch_size=32, verbose=1)\n",
        "\n",
        "# Make predictions on the test set\n",
        "y_pred_lstm = lstm_model.predict(X_test_lstm)\n",
        "y_pred_lstm = np.round(y_pred_lstm).astype(int).flatten()  # Convert probabilities to binary predictions\n",
        "\n",
        "# Calculate the accuracy of the LSTM model\n",
        "accuracy_lstm = accuracy_score(y_test, y_pred_lstm)\n",
        "print(\"LSTM Accuracy:\", accuracy_lstm)\n"
      ]
    }
  ],
  "metadata": {
    "colab": {
      "provenance": [],
      "toc_visible": true
    },
    "kernelspec": {
      "display_name": "Python 3",
      "name": "python3"
    },
    "language_info": {
      "codemirror_mode": {
        "name": "ipython",
        "version": 3
      },
      "file_extension": ".py",
      "mimetype": "text/x-python",
      "name": "python",
      "nbconvert_exporter": "python",
      "pygments_lexer": "ipython3",
      "version": "3.11.5"
    }
  },
  "nbformat": 4,
  "nbformat_minor": 0
}
